{
  "nbformat": 4,
  "nbformat_minor": 0,
  "metadata": {
    "colab": {
      "provenance": []
    },
    "kernelspec": {
      "name": "python3",
      "display_name": "Python 3"
    },
    "language_info": {
      "name": "python"
    },
    "accelerator": "GPU",
    "gpuClass": "standard"
  },
  "cells": [
    {
      "cell_type": "markdown",
      "source": [
        "# Sprawozdanie z zajęć nr 13\n",
        "## Algorytm MonteCarlo using library torch \n",
        "## Programowanie Równolegle i Rozproszone 2022/2023\n",
        "### Uniwersytet w Białymstoku\n",
        "### Karol Wójcik\n",
        "### 80292"
      ],
      "metadata": {
        "id": "fP8vxtWA42uv"
      }
    },
    {
      "cell_type": "markdown",
      "source": [
        "### 1. zmiana środowiska wykonawczego z CPU na GPU \n",
        "### Środowisko wykonawcze - > Zmień typ środowiska wykonawczego - > GPU - > ZAPISZ\n"
      ],
      "metadata": {
        "id": "ZMrVavdufeQy"
      }
    },
    {
      "cell_type": "markdown",
      "source": [
        "# Algorytm Monte Carlo polega na losowaniu punktow i liczeniu ile z nich znajduje się w danym obszarze. W tym konkretnym przykladzie algorytm losuje punkty w 2D na płaszczyznie i sprawdza ile z nich znajduje się wewnatrz okregu o zadanym promieniu. Dzięki temu możemy oszacować wartosc liczby pi, ponieważ stosunek liczby punktów wewnątrz okręgu do liczby punktów całkowitej powinien być taki sam jak stosunek pola okręgu do pola kwadratu o boku równym promieniowi okręgu. Kod korzysta z biblioteki torch do losowania punktów oraz obliczania odleglosci między nimi.\n",
        "# W kodzie używamy funkcji time.time() do zmierzenia czasu, który upływa od momentu rozpoczęcia działania funkcji monte_carlo_circle_area() do momentu jej zakończenia."
      ],
      "metadata": {
        "id": "uLozNifbge1Q"
      }
    },
    {
      "cell_type": "code",
      "source": [
        "from IPython.display import HTML\n",
        "\n",
        "text = \"GPU\"\n",
        "color = \"yellow\"\n",
        "font_size = \"40pt\"\n",
        "\n",
        "html_code = \"<span style='color:{}; font-size:{};'>{}</span>\".format(color, font_size, text)\n",
        "\n",
        "display(HTML(html_code))"
      ],
      "metadata": {
        "colab": {
          "base_uri": "https://localhost:8080/",
          "height": 83
        },
        "id": "GDgQsAW2fxRO",
        "outputId": "432b7456-c60b-4c59-ddbd-fc4334ef8ab1"
      },
      "execution_count": 49,
      "outputs": [
        {
          "output_type": "display_data",
          "data": {
            "text/plain": [
              "<IPython.core.display.HTML object>"
            ],
            "text/html": [
              "<span style='color:yellow; font-size:40pt;'>GPU</span>"
            ]
          },
          "metadata": {}
        }
      ]
    },
    {
      "cell_type": "code",
      "source": [
        "import torch\n",
        "import time\n",
        "\n",
        "def monte_carlo_circle_area(n_points,  radius = 1):\n",
        "  start = time.time()\n",
        "  # Tworzenie tensorów z losowymi współrzędnymi punktów\n",
        "  x = torch.rand(n_points, device='cuda') * radius * 2 - radius\n",
        "  y = torch.rand(n_points, device='cuda') * radius * 2 - radius\n",
        "\n",
        "  # Obliczanie odległości punktów od środka okręgu\n",
        "  dist = torch.sqrt(x**2 + y**2)\n",
        "  # Zliczanie liczby punktów w okręgu\n",
        "  in_circle = torch.sum(dist < radius)\n",
        "  # Obliczanie pola okręgu\n",
        "  pi_estimate = 4 *  (in_circle / n_points) \n",
        "  end = time.time()\n",
        "  return pi_estimate, end-start\n",
        "\n",
        "n_points = 150000\n",
        "radius = 6\n",
        "pi_val, time = monte_carlo_circle_area(n_points, radius)\n",
        "print(\"Estimated value of pi for {} points and radius {} is {}\".format(n_points, radius, pi_val))\n",
        "print(\"Time taken: \", time * 1000)"
      ],
      "metadata": {
        "colab": {
          "base_uri": "https://localhost:8080/"
        },
        "id": "ZNtYdZbV46Gf",
        "outputId": "fe8c35dd-5646-4535-eccd-f8cf09c4158d"
      },
      "execution_count": 39,
      "outputs": [
        {
          "output_type": "stream",
          "name": "stdout",
          "text": [
            "Estimated value of pi for 150000 points and radius 6 is 3.140000104904175\n",
            "Time taken:  1.3349056243896484\n"
          ]
        }
      ]
    },
    {
      "cell_type": "markdown",
      "source": [
        "# Opis krokow \n",
        "\n",
        "## 1 Ustawienie zmiennej start na aktualny czas.\n",
        "\n",
        "## 2 Tworzenie dwóch tensorów z losowymi współrzędnymi punktów x i y na podstawie liczby n_points i promienia okręgu.\n",
        "##Tworzymyy tensor o nazwie \"x\" za pomocą biblioteki PyTorch. \"torch.rand\" jest funkcją, która tworzy tensor z losowymi liczbami z przedziału (0, 1). \"n_points\" jest argumentem, który określa liczbę punktów, dla których chcemy utworzyć tensor. \"device='cuda'\" oznacza, że tensor ma być przechowywany na karcie graficznej (GPU) zamiast na procesorze (CPU).\n",
        "##Następnie, wyrażenie \"* radius * 2 - radius\" mnoży każdy element tensoru przez 2 * radius, a następnie odejmuje radius. Wynikający z tego tensor zawiera współrzędne punktów, które są losowo rozłożone na kołach o promieniu radius.\n",
        "\n",
        "## 4 Obliczanie odległości punktów od środka okręgu za pomocą wzoru na odległość euklidesową.\n",
        "\n",
        "## 5 Zliczanie liczby punktów, które znajdują się wewnątrz okręgu.\n",
        "\n",
        "## 6 Obliczanie szacunkowej wartości pi jako 4 * (liczba punktów wewnątrz okręgu / liczba punktów całkowitych).\n",
        "\n",
        "## 7 Ustawienie zmiennej end na aktualny czas.\n",
        "\n",
        "## 8Zwrócenie wartości szacunkowej pi i czasu trwania całego algorytmu."
      ],
      "metadata": {
        "id": "Z-rXOq-6gHga"
      }
    },
    {
      "cell_type": "code",
      "source": [
        "from IPython.display import HTML\n",
        "\n",
        "text = \"CPU\"\n",
        "color = \"yellow\"\n",
        "font_size = \"40pt\"\n",
        "html_code = \"<span style='color:{}; font-size:{};'>{}</span>\".format(color, font_size, text)\n",
        "display(HTML(html_code))"
      ],
      "metadata": {
        "colab": {
          "base_uri": "https://localhost:8080/",
          "height": 83
        },
        "id": "ohINhPyYf6FH",
        "outputId": "7861735c-fe3a-4d87-9e82-e4d279915c20"
      },
      "execution_count": 50,
      "outputs": [
        {
          "output_type": "display_data",
          "data": {
            "text/plain": [
              "<IPython.core.display.HTML object>"
            ],
            "text/html": [
              "<span style='color:yellow; font-size:40pt;'>CPU</span>"
            ]
          },
          "metadata": {}
        }
      ]
    },
    {
      "cell_type": "code",
      "source": [
        "import torch\n",
        "import time\n",
        "\n",
        "def monte_carlo_circle_area(n_points,  radius = 1):\n",
        "  start = time.time()\n",
        "  # Tworzenie tensorów z losowymi współrzędnymi punktów\n",
        "  x = torch.rand(n_points) * radius * 2 - radius\n",
        "  y = torch.rand(n_points) * radius * 2 - radius\n",
        "  x = x.to(\"cpu\")\n",
        "  y = y.to(\"cpu\")\n",
        "  # Obliczanie odległości punktów od środka okręgu\n",
        "  dist = torch.sqrt(x**2 + y**2)\n",
        "  # Zliczanie liczby punktów w okręgu\n",
        "  in_circle = torch.sum(dist < radius)\n",
        "  # Obliczanie pola okręgu\n",
        "  pi_estimate = 4 *  (in_circle / n_points) \n",
        "  end = time.time()\n",
        "  return pi_estimate, end-start\n",
        "\n",
        "n_points = 1000000\n",
        "radius = 6\n",
        "pi_val, time = monte_carlo_circle_area(n_points, radius)\n",
        "print(\"Estimated value of pi for {} points and radius {} is {}\".format(n_points, radius, pi_val))\n",
        "print(\"Time taken: \", time * 1000)"
      ],
      "metadata": {
        "colab": {
          "base_uri": "https://localhost:8080/"
        },
        "id": "bYPe2xNrVG_j",
        "outputId": "f1aa9a07-5a31-49f1-9e27-4330efc02727"
      },
      "execution_count": 28,
      "outputs": [
        {
          "output_type": "stream",
          "name": "stdout",
          "text": [
            "Estimated value of pi for 1000000 points and radius 6 is 3.142751932144165\n",
            "Time taken:  60.274362564086914\n"
          ]
        }
      ]
    },
    {
      "cell_type": "markdown",
      "source": [
        "# Opis krokow \n",
        "\n",
        "## 1 Ustawienie zmiennej start na aktualny czas.\n",
        "\n",
        "## 2 Tworzenie dwóch tensorów z losowymi współrzędnymi punktów x i y na podstawie liczby n_points i promienia okręgu. Na podstawie x = x.to(\"cpu\") upewniamy sie ze obliczenia sa wykonywane na CPU\n",
        "\n",
        "\n",
        "## 4 Obliczanie odległości punktów od środka okręgu za pomocą wzoru na odległość euklidesową.\n",
        "\n",
        "## 5 Zliczanie liczby punktów, które znajdują się wewnątrz okręgu.\n",
        "\n",
        "## 6 Obliczanie szacunkowej wartości pi jako 4 * (liczba punktów wewnątrz okręgu / liczba punktów całkowitych).\n",
        "\n",
        "## 7 Ustawienie zmiennej end na aktualny czas.\n",
        "\n",
        "## 8Zwrócenie wartości szacunkowej pi i czasu trwania całego algorytmu."
      ],
      "metadata": {
        "id": "t6qv1xbXiD3P"
      }
    },
    {
      "cell_type": "markdown",
      "source": [
        "# Wykresy "
      ],
      "metadata": {
        "id": "pVaIHu7yVsXN"
      }
    },
    {
      "cell_type": "code",
      "source": [
        "import matplotlib.pyplot as plt\n",
        "\n",
        "\n",
        "# dodanie do tablic wartosci time i dim  \n",
        "\n",
        "\n",
        "# Monte Carlo \n",
        "n1 =          [  10000 , 50000     ,  100000  , 150000  , 500000  , 1000000 , 1500000 , 5000000 , 10000000 ]\n",
        "\n",
        "# GPU \n",
        "time_ms_GPU = [ 1.5714168548583984  , 3.9200782775878906  , 0.5884170532226562 , 1.5804767608642578  ,  3.785371780395508 ,   1.4986991882324219 ,1.82342529296875 ,   0.9071826934814453,       6.617546081542969 ]\n",
        "\n",
        "\n",
        "# CPU  z\n",
        "time_ms_CPU = [   1.4925003051757812 ,  3.2749176025390625 ,  4.925012588500977  ,5.4988861083984375 , 19.702911376953125 ,   28.492450714111328 ,41.18847846984863 ,140.60115814208984 , 262.51959800720215]\n",
        "\n",
        "\n",
        "# stowrzenie wykresu funkcja plot\n",
        "plt.plot( n1, time_ms_CPU,color='blue', label='CPU')\n",
        "plt.plot(n1 ,time_ms_GPU  , color='red' , label='GPU' )\n",
        "\n",
        "# tytyl , os x i y \n",
        "#plt.xlabel('N')\n",
        "#plt.ylabel('Time (milliseconds)')\n",
        "#plt.title('N over Time')\n",
        "plt.xscale(\"log\")\n",
        "plt.xticks(n1)\n",
        "plt.xlabel('N')\n",
        "plt.ylabel('Time (milliseconds)')\n",
        "plt.title('Time over N')\n",
        "# plt.show()"
      ],
      "metadata": {
        "colab": {
          "base_uri": "https://localhost:8080/",
          "height": 316
        },
        "id": "ptHbBQLHV1eO",
        "outputId": "4f4344d2-98f9-4bc9-ebb1-28086659defe"
      },
      "execution_count": 40,
      "outputs": [
        {
          "output_type": "execute_result",
          "data": {
            "text/plain": [
              "Text(0.5, 1.0, 'Time over N')"
            ]
          },
          "metadata": {},
          "execution_count": 40
        },
        {
          "output_type": "display_data",
          "data": {
            "text/plain": [
              "<Figure size 432x288 with 1 Axes>"
            ],
            "image/png": "[encoded data removed]"
          },
          "metadata": {
            "needs_background": "light"
          }
        }
      ]
    },
    {
      "cell_type": "markdown",
      "source": [
        "# Wnioski"
      ],
      "metadata": {
        "id": "k3o_aCHzcwWw"
      }
    },
    {
      "cell_type": "markdown",
      "source": [
        "##Na podstawie danych z tabeli widać, że algorytm Monte Carlo wykonany na GPU jest znacznie szybszy niż na CPU dla większości liczby punktów. Czas wykonania algorytmu na GPU jest kilkakrotnie niższy niż na CPU, szczególnie dla większych liczb punktów. Wynika to z faktu, że GPU posiada więcej rdzeni do obliczeń niż CPU, co pozwala na równoległe przetwarzanie danych.\n",
        "\n",
        "##Jednak widać także, że dla niektórych liczb punktów (np. 1000000, 1500000) czas wykonania algorytmu na GPU jest nieco wyższy niż na CPU. Może to być spowodowane różnymi czynnikami, takimi jak koszt przesyłania danych między CPU i GPU, czy też nadmiernym obciążeniem GPU.\n",
        "\n",
        "##Wyniki te wskazują, że dla dużych zestawów danych lepiej jest używać GPU do obliczeń z użyciem algorytmów Monte Carlo, ponieważ pozwala to na znacznie szybsze wykonanie obliczeń."
      ],
      "metadata": {
        "id": "h5HEexG7cyvd"
      }
    },
    {
      "cell_type": "markdown",
      "source": [
        "##Wynika z danych, że algorytm Monte Carlo na komputerze z procesorem GPU jest znacznie szybszy niż na komputerze z procesorem CPU. W przypadku liczby punktów równej 10000, algorytm na GPU jest o około 4% szybszy niż na CPU. Zwiększając liczbę punktów do 5000000, przyspieszenie wzrasta do około 141%. W przypadku liczby punktów równej 10000000, algorytm na GPU jest o około 150% szybszy niż na CPU.\n",
        "\n"
      ],
      "metadata": {
        "id": "Ih9x5IeadDa_"
      }
    },
    {
      "cell_type": "markdown",
      "source": [
        "# Nie wiem czemu tutaj Cuda się nie ukatywnia"
      ],
      "metadata": {
        "id": "hC0S12d3dkwX"
      }
    },
    {
      "cell_type": "code",
      "source": [
        "import torch\n",
        "import time\n",
        "\n",
        "\n",
        "def monte_carlo_circle_area(n_points,  radius = 1):\n",
        "  start = time.time()\n",
        "  # Tworzenie tensorów z losowymi współrzędnymi punktów\n",
        "  x = torch.rand(n_points) * radius * 2 - radius\n",
        "  y = torch.rand(n_points) * radius * 2 - radius\n",
        "  x = x.cuda()\n",
        "  y = y.cuda()\n",
        "  # Obliczanie odległości punktów od środka okręgu\n",
        "  dist = torch.sqrt(x**2 + y**2)\n",
        "  # Zliczanie liczby punktów w okręgu\n",
        "  in_circle = torch.sum(dist < radius)\n",
        "  # Obliczanie pola okręgu\n",
        "  pi_estimate = 4 *  (in_circle / n_points) \n",
        "  end = time.time()\n",
        "  return pi_estimate, end-start\n",
        "\n",
        "n_points = 10000000\n",
        "radius = 6\n",
        "pi_val, time = monte_carlo_circle_area(n_points, radius)\n",
        "print(\"Estimated value of pi for {} points and radius {} is {}\".format(n_points, radius, pi_val))\n",
        "print(\"Time taken: \", time * 1000)  "
      ],
      "metadata": {
        "colab": {
          "base_uri": "https://localhost:8080/"
        },
        "id": "jN1YLZY7dopu",
        "outputId": "146cdf1c-14f5-43e3-faed-95283638df45"
      },
      "execution_count": 1,
      "outputs": [
        {
          "output_type": "stream",
          "name": "stdout",
          "text": [
            "Estimated value of pi for 10000000 points and radius 6 is 3.141913652420044\n",
            "Time taken:  4829.592943191528\n"
          ]
        }
      ]
    },
    {
      "cell_type": "code",
      "source": [
        "from IPython.display import HTML\n",
        "\n",
        "text = \"Dla n_points = 10000000 czas to 190.92512130737305 jakby używał procesora\"\n",
        "color = \"red\"\n",
        "font_size = \"40pt\"\n",
        "\n",
        "html_code = \"<span style='color:{}; font-size:{};'>{}</span>\".format(color, font_size, text)\n",
        "\n",
        "display(HTML(html_code))"
      ],
      "metadata": {
        "colab": {
          "base_uri": "https://localhost:8080/",
          "height": 83
        },
        "id": "a6CkU_h2eIwu",
        "outputId": "46c3864b-5a6b-445e-cda5-1af6b19f6a3d"
      },
      "execution_count": 48,
      "outputs": [
        {
          "output_type": "display_data",
          "data": {
            "text/plain": [
              "<IPython.core.display.HTML object>"
            ],
            "text/html": [
              "<span style='color:red; font-size:40pt;'>Dla n_points = 10000000 czas to 190.92512130737305 jakby używał procesora</span>"
            ]
          },
          "metadata": {}
        }
      ]
    }
  ]
}